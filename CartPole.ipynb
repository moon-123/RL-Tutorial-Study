{
  "nbformat": 4,
  "nbformat_minor": 0,
  "metadata": {
    "colab": {
      "provenance": [],
      "authorship_tag": "ABX9TyN0Zd9JFO29l4/hpY/2ueJw",
      "include_colab_link": true
    },
    "kernelspec": {
      "name": "python3",
      "display_name": "Python 3"
    },
    "language_info": {
      "name": "python"
    }
  },
  "cells": [
    {
      "cell_type": "markdown",
      "metadata": {
        "id": "view-in-github",
        "colab_type": "text"
      },
      "source": [
        "<a href=\"https://colab.research.google.com/github/moon-123/RL-Tutorial-Study/blob/main/CartPole.ipynb\" target=\"_parent\"><img src=\"https://colab.research.google.com/assets/colab-badge.svg\" alt=\"Open In Colab\"/></a>"
      ]
    },
    {
      "cell_type": "markdown",
      "source": [
        "# CartPole"
      ],
      "metadata": {
        "id": "2DrDohIb14Wg"
      }
    },
    {
      "cell_type": "code",
      "source": [
        "!pip3 install gymnasium[classic_control]"
      ],
      "metadata": {
        "colab": {
          "base_uri": "https://localhost:8080/"
        },
        "id": "wTtek4pTw2Qs",
        "outputId": "4015851e-7a90-4ed2-d97a-623bd193e2ad"
      },
      "execution_count": null,
      "outputs": [
        {
          "output_type": "stream",
          "name": "stdout",
          "text": [
            "Collecting gymnasium[classic_control]\n",
            "  Downloading gymnasium-0.29.1-py3-none-any.whl (953 kB)\n",
            "\u001b[2K     \u001b[90m━━━━━━━━━━━━━━━━━━━━━━━━━━━━━━━━━━━━━━━━\u001b[0m \u001b[32m953.9/953.9 kB\u001b[0m \u001b[31m7.7 MB/s\u001b[0m eta \u001b[36m0:00:00\u001b[0m\n",
            "\u001b[?25hRequirement already satisfied: numpy>=1.21.0 in /usr/local/lib/python3.10/dist-packages (from gymnasium[classic_control]) (1.25.2)\n",
            "Requirement already satisfied: cloudpickle>=1.2.0 in /usr/local/lib/python3.10/dist-packages (from gymnasium[classic_control]) (2.2.1)\n",
            "Requirement already satisfied: typing-extensions>=4.3.0 in /usr/local/lib/python3.10/dist-packages (from gymnasium[classic_control]) (4.10.0)\n",
            "Collecting farama-notifications>=0.0.1 (from gymnasium[classic_control])\n",
            "  Downloading Farama_Notifications-0.0.4-py3-none-any.whl (2.5 kB)\n",
            "Requirement already satisfied: pygame>=2.1.3 in /usr/local/lib/python3.10/dist-packages (from gymnasium[classic_control]) (2.5.2)\n",
            "Installing collected packages: farama-notifications, gymnasium\n",
            "Successfully installed farama-notifications-0.0.4 gymnasium-0.29.1\n"
          ]
        }
      ]
    },
    {
      "cell_type": "code",
      "source": [
        "import gymnasium as gym\n",
        "import math\n",
        "import random\n",
        "import matplotlib\n",
        "import matplotlib.pyplot as plt\n",
        "from collections import namedtuple, deque\n",
        "from itertools import count\n",
        "\n",
        "import torch\n",
        "import torch.nn as nn\n",
        "import torch.optim as optim\n",
        "import torch.nn.functional as F"
      ],
      "metadata": {
        "id": "Tf_0vRduxS_3"
      },
      "execution_count": null,
      "outputs": []
    },
    {
      "cell_type": "code",
      "source": [
        "env = gym.make(\"CartPole-v1\")"
      ],
      "metadata": {
        "id": "FyZg_OF4x3lA"
      },
      "execution_count": null,
      "outputs": []
    },
    {
      "cell_type": "code",
      "source": [
        "matplotlib.get_backend()"
      ],
      "metadata": {
        "colab": {
          "base_uri": "https://localhost:8080/",
          "height": 36
        },
        "id": "bE9YXIQv2ofk",
        "outputId": "c6e5a457-a8ca-4e41-bb11-d8ca0b26b19c"
      },
      "execution_count": null,
      "outputs": [
        {
          "output_type": "execute_result",
          "data": {
            "text/plain": [
              "'module://matplotlib_inline.backend_inline'"
            ],
            "application/vnd.google.colaboratory.intrinsic+json": {
              "type": "string"
            }
          },
          "metadata": {},
          "execution_count": 4
        }
      ]
    },
    {
      "cell_type": "code",
      "source": [
        "# set up matplotlib\n",
        "is_ipython = 'inline' in matplotlib.get_backend()\n",
        "if is_ipython:\n",
        "    from IPython import display\n",
        "\n",
        "# interactive mode\n",
        "plt.ion()"
      ],
      "metadata": {
        "colab": {
          "base_uri": "https://localhost:8080/"
        },
        "id": "L2thoixryI1B",
        "outputId": "e596549d-3164-49d0-90d6-11957ee2a58f"
      },
      "execution_count": null,
      "outputs": [
        {
          "output_type": "execute_result",
          "data": {
            "text/plain": [
              "<contextlib.ExitStack at 0x7d4c78606830>"
            ]
          },
          "metadata": {},
          "execution_count": 5
        }
      ]
    },
    {
      "cell_type": "code",
      "source": [
        "device = torch.device(\"cuda\" if torch.cuda.is_available() else \"cpu\")"
      ],
      "metadata": {
        "id": "k12JFV1T2Stp"
      },
      "execution_count": null,
      "outputs": []
    },
    {
      "cell_type": "code",
      "source": [
        "Transition = namedtuple('Transiti',\n",
        "                        ('state', 'action', 'next_state', 'reward'))"
      ],
      "metadata": {
        "id": "TfjNM66e0T9g"
      },
      "execution_count": null,
      "outputs": []
    },
    {
      "cell_type": "markdown",
      "source": [
        "### Memory\n",
        "* DQN을 학습하기 위해 필요함\n",
        "* 변천기를 기억함\n",
        "* 나중에 메모리를 사용하기 위함"
      ],
      "metadata": {
        "id": "Obquk6wfWbey"
      }
    },
    {
      "cell_type": "code",
      "source": [
        "class ReplayMemory(object):\n",
        "    def __init__(self, capacity):\n",
        "        self.memory = deque([], maxlen=capacity)\n",
        "\n",
        "    def push(self, *args):\n",
        "        self.memory.append(Transition(*args))\n",
        "\n",
        "    def sample(self, batch_size):\n",
        "        return random.sample(self.memory, batch_size)\n",
        "\n",
        "    def __len__(self):\n",
        "        return len(self.memory)"
      ],
      "metadata": {
        "id": "-NZivqvIFW0O"
      },
      "execution_count": null,
      "outputs": []
    },
    {
      "cell_type": "markdown",
      "source": [
        "### Model\n",
        "* 3개의 선형 레이어로 구성\n",
        "n_observations -> 128 -> relu -> 128 ->"
      ],
      "metadata": {
        "id": "AsfsxpTOFX7f"
      }
    },
    {
      "cell_type": "code",
      "source": [
        "class DQN(nn.Module):\n",
        "    def __init__(self, n_observations, n_actions):\n",
        "        super(DQN, self).__init__()\n",
        "        self.layer1 = nn.Linear(n_observations, 128)\n",
        "        self.layer2 = nn.Linear(128, 128)\n",
        "        self.layer3 = nn.Linear(128, n_actions)\n",
        "\n",
        "    def forward(self, x):\n",
        "        x = F.relu(self.layer1(x))\n",
        "        x = F.relu(self.layer2(x))\n",
        "        return self.layer3(x)"
      ],
      "metadata": {
        "id": "zDtmjDMNW4mi"
      },
      "execution_count": null,
      "outputs": []
    },
    {
      "cell_type": "markdown",
      "source": [
        "# Training"
      ],
      "metadata": {
        "id": "ollHENaKwqpN"
      }
    },
    {
      "cell_type": "markdown",
      "source": [
        "### Hyperparameters and utilities"
      ],
      "metadata": {
        "id": "bmnawQijxd7S"
      }
    },
    {
      "cell_type": "markdown",
      "source": [
        "```\n",
        "# BATCH_SIZE is the number of transitions sampled from the replay buffer\n",
        "# GAMMA is the discount factor as mentioned in the previous section\n",
        "# EPS_START is the starting value of epsilon\n",
        "# EPS_END is the final value of epsilon\n",
        "# EPS_DECAY controls the rate of exponential decay of epsilon, higher means a slower decay\n",
        "# TAU is the update rate of the target network\n",
        "# LR is the learning rate of the ``AdamW`` optimizer\n",
        "\n",
        "```"
      ],
      "metadata": {
        "id": "7DAVwgACmHAj"
      }
    },
    {
      "cell_type": "code",
      "source": [
        "BATCH_SIZE = 128\n",
        "GAMMA = 0.99\n",
        "EPS_START = 0.9\n",
        "EPS_END = 0.05\n",
        "EPS_DECAY = 1000\n",
        "TAU = 0.005\n",
        "LR = 1e-4"
      ],
      "metadata": {
        "id": "KJ8jxBjmwpN1"
      },
      "execution_count": null,
      "outputs": []
    },
    {
      "cell_type": "code",
      "source": [
        "# Get number of actions from gym action space\n",
        "# 이미 정의된 action_space 수를 반환. cart pole은 left, right로 두개임\n",
        "n_actions = env.action_space.n\n",
        "\n",
        "# n_actions = 2"
      ],
      "metadata": {
        "id": "ZWdEn9B-mNmn"
      },
      "execution_count": null,
      "outputs": []
    },
    {
      "cell_type": "code",
      "source": [
        "# Get the number of state observations\n",
        "# reset후 초기 상태 반환, 랜덤값?\n",
        "state, info = env.reset()"
      ],
      "metadata": {
        "id": "UlmfOYpWmTS_"
      },
      "execution_count": null,
      "outputs": []
    },
    {
      "cell_type": "code",
      "source": [
        "n_observations = len(state)\n",
        "n_observations\n",
        "\n",
        "# state가 왜 4개?"
      ],
      "metadata": {
        "colab": {
          "base_uri": "https://localhost:8080/"
        },
        "id": "XGyVCyPGojqI",
        "outputId": "ff1fd7d8-9de4-403f-dcf8-2df8452e9b1f"
      },
      "execution_count": null,
      "outputs": [
        {
          "output_type": "execute_result",
          "data": {
            "text/plain": [
              "4"
            ]
          },
          "metadata": {},
          "execution_count": 22
        }
      ]
    },
    {
      "cell_type": "code",
      "source": [
        "policy_net = DQN(n_observations, n_actions).to(device)\n",
        "\n",
        "target_net = DQN(n_observations, n_actions).to(device)\n",
        "\n",
        "# 왜 정책net과 타켓net을 따로 만드는지?"
      ],
      "metadata": {
        "id": "0guOkex0qkqF"
      },
      "execution_count": null,
      "outputs": []
    },
    {
      "cell_type": "code",
      "source": [
        "target_net"
      ],
      "metadata": {
        "colab": {
          "base_uri": "https://localhost:8080/"
        },
        "id": "iBigrr2crJ4X",
        "outputId": "d594c4d0-03af-49f5-eebf-f4756dd07d8e"
      },
      "execution_count": null,
      "outputs": [
        {
          "output_type": "execute_result",
          "data": {
            "text/plain": [
              "DQN(\n",
              "  (layer1): Linear(in_features=4, out_features=128, bias=True)\n",
              "  (layer2): Linear(in_features=128, out_features=128, bias=True)\n",
              "  (layer3): Linear(in_features=128, out_features=2, bias=True)\n",
              ")"
            ]
          },
          "metadata": {},
          "execution_count": 28
        }
      ]
    },
    {
      "cell_type": "code",
      "source": [
        "target_net.load_state_dict(policy_net.state_dict())\n",
        "\n",
        "# 왜?\n",
        "target_net\n",
        "\n",
        "# 두 모델을 같은 조건에서 시작하기 위해\n"
      ],
      "metadata": {
        "colab": {
          "base_uri": "https://localhost:8080/"
        },
        "id": "ONwDHNNpq8qD",
        "outputId": "da871c90-6ca4-44db-ccec-76d31d43a31c"
      },
      "execution_count": null,
      "outputs": [
        {
          "output_type": "execute_result",
          "data": {
            "text/plain": [
              "DQN(\n",
              "  (layer1): Linear(in_features=4, out_features=128, bias=True)\n",
              "  (layer2): Linear(in_features=128, out_features=128, bias=True)\n",
              "  (layer3): Linear(in_features=128, out_features=2, bias=True)\n",
              ")"
            ]
          },
          "metadata": {},
          "execution_count": 30
        }
      ]
    },
    {
      "cell_type": "code",
      "source": [
        "optimizer = optim.AdamW(policy_net.parameters(), lr=LR, amsgrad=True)\n",
        "\n",
        "memory = ReplayMemory(10000)"
      ],
      "metadata": {
        "id": "yEv_W83WrVX4"
      },
      "execution_count": null,
      "outputs": []
    },
    {
      "cell_type": "code",
      "source": [
        "steps_done = 0"
      ],
      "metadata": {
        "id": "eRWq5_4nrkUi"
      },
      "execution_count": null,
      "outputs": []
    },
    {
      "cell_type": "markdown",
      "source": [
        "<img src=\"https://cdn.mathpix.com/snip/images/lr5ddoi5fqxTy9j1Ahk0EiAFMFuzOf9ktCMJeiAH4Ko.original.fullsize.png\"/>"
      ],
      "metadata": {
        "id": "hyZK25Q0syO3"
      }
    },
    {
      "cell_type": "markdown",
      "source": [
        "* 이 코드는 강화 학습에서 사용되는 epsilon 값을 업데이트하는 방법을 구현한 것입니다. 주어진 코드에서는 epsilon 값(eps_threshold)을 새롭게 계산하고 있습니다.\n",
        "\n",
        "* EPS_START: 학습 시작 시의 epsilon 값입니다. 이 값은 초기에 탐험을 위해 높게 설정됩니다.\n",
        "* EPS_END: 학습 종료 시의 최종 epsilon 값입니다. 이 값은 작게 설정되어 무작위 탐색을 줄이고 학습된 정책을 활용합니다.\n",
        "* EPS_DECAY: epsilon이 감소하는 비율을 결정합니다. 이 값이 클수록 epsilon이 빠르게 감소합니다.\n",
        "* steps_done: 현재까지 에이전트가 수행한 총 단계 수입니다. 이 값은 시간이 지남에 따라 증가하며, 감소하는 epsilon 값에 영향을 줍니다.\n",
        "수식적으로, epsilon 값을 업데이트하는 방법은 다음과 같습니다:\n",
        "\n",
        "    * (EPS_START - EPS_END): 초기 epsilon 값과 최종 epsilon 값의 차이를 구합니다. 이는 epsilon이 감소하는 범위를 나타냅니다.\n",
        "    * math.exp(-1. * steps_done / EPS_DECAY): 수행한 단계 수에 따라 epsilon의 감소를 결정합니다. 단계 수가 증가할수록 지수 함수의 값은 작아지므로 epsilon 값의 감소가 더 빠르게 이루어집니다.\n",
        "    최종적으로 최종 epsilon 값인 EPS_END에 위의 두 값의 곱을 더하여 새로운 epsilon 값을 계산합니다.\n",
        "    이 방법을 통해 학습 초기에는 탐험을 위한 무작위 행동이 더 자주 선택되고, 시간이 지남에 따라 학습된 정책을 활용하는 비율이 높아지게 됩니다."
      ],
      "metadata": {
        "id": "OvuS2lP_u8MC"
      }
    },
    {
      "cell_type": "code",
      "source": [
        "def select_action(state):\n",
        "    global steps_done\n",
        "    sample = random.random()\n",
        "    eps_threshold = EPS_END + (EPS_START - EPS_END) * math.exp(-1. * steps_done / EPS_DECAY)\n",
        "    steps_done += 1\n",
        "\n",
        "    # sample이 eps_threshold를 넘으면\n",
        "    if sample > eps_threshold:\n",
        "        with torch.no_grad():\n",
        "            return policy_net(state).max(1).indices.view(1, 1)\n",
        "\n",
        "    # 그게 아니면 가능한 행동 중에서 무작위로 하나를 샘플링하여 선택\n",
        "    else:\n",
        "        return torch.tensor([[env.action_space.sample()]], device=device, dtype=torch.long)\n"
      ],
      "metadata": {
        "id": "C76zwr-6rlAi"
      },
      "execution_count": null,
      "outputs": []
    },
    {
      "cell_type": "code",
      "source": [
        "episode_durations = []"
      ],
      "metadata": {
        "id": "Jan_KKOJvWPv"
      },
      "execution_count": null,
      "outputs": []
    },
    {
      "cell_type": "code",
      "source": [
        "def plot_durations(show_result=False):\n",
        "    plt.figure(1)\n",
        "    duration_t = torch.tensor(episode_durations, dtype=torch.float)\n",
        "    if show_result:\n",
        "        plt.title('Result')\n",
        "    else:\n",
        "        plt.clf()\n",
        "        plt.title('Training...')\n",
        "\n",
        "    plt.xlabel('Episode')\n",
        "    plt.ylabel('Duration')\n",
        "\n",
        "    plt.plot(duration_t.numpy())\n",
        "\n",
        "    '''\n",
        "    duration_t.unfold(0, 100, 1): duration_t라는 시계열 데이터를 100의 길이를 가진 윈도우로 나눕니다. 이 때, 각 윈도우는 1만큼 씩 이동하며 겹치지 않습니다. 이 작업은 PyTorch의 unfold 함수를 사용하여 수행됩니다. 이렇게 하면 각 윈도우에 대한 데이터가 포함된 2차원 텐서가 생성됩니다.\n",
        "\n",
        "    .mean(1): 각 윈도우의 평균을 계산합니다. 여기서 1은 텐서의 두 번째 차원(열)을 나타냅니다. 따라서 이 작업을 수행하면 각 윈도우의 평균이 포함된 1차원 텐서가 생성됩니다.\n",
        "\n",
        "    .view(-1): 평균값들을 1차원으로 펼칩니다. 이렇게 하면 최종적으로 각 윈도우의 평균으로 이루어진 1차원 텐서가 생성됩니다.\n",
        "\n",
        "    torch.cat((torch.zeros(99), means)): 평균값들 앞에 99개의 0 값을 추가합니다. 이는 처음 몇 개의 평균값을 0으로 설정하여, 초기 데이터의 영향을 줄이고 부드러운 추세를 얻기 위함입니다.\n",
        "    '''\n",
        "\n",
        "    if len(duration_t) >= 100:\n",
        "        means = duration_t.unfold(0, 100, 1).mean(1).view(-1)\n",
        "        means = torch.cat((torch.zeros(99), means))\n",
        "\n",
        "        plt.plot(means.numpy())\n",
        "\n",
        "    plt.pause(0.001)\n",
        "\n",
        "    if is_ipython:\n",
        "        if not show_result:\n",
        "            display.display(plt.gcf())\n",
        "            display.clear_output(wait=True)\n",
        "\n",
        "        else:\n",
        "            display.display(plt.gcf())\n",
        "\n",
        "\n",
        "\n"
      ],
      "metadata": {
        "id": "p-0uEp8GvW1f"
      },
      "execution_count": null,
      "outputs": []
    },
    {
      "cell_type": "markdown",
      "source": [
        "### Training loop\n"
      ],
      "metadata": {
        "id": "BqustXafwwD3"
      }
    },
    {
      "cell_type": "code",
      "source": [
        "def optimize_model():\n",
        "    if len(memory) < BATCH_SIZE:\n",
        "        return\n",
        "\n",
        "    transitions = memory.sample(BATCH_SIZE)\n",
        "\n",
        "    batch = Transition(*zip(*transitions))\n",
        "\n",
        "\n",
        "    non_final_mask = torch.tensor(tuple(map(lambda s: s is not None, batch.next_state)), device=device, dtype=torch.bool)\n",
        "    non_final_next_states = torch.cat([s for s in batch.next_state if s is not None])\n",
        "\n",
        "    state_batch = torch.cat(batch.state)\n",
        "    action_batch = torch.cat(batch.action)\n",
        "    reward_batch = torch.cat(batch.reward)\n",
        "\n",
        "    # Compute Q(s_t, a) - the model computes Q(s_t), then we select the\n",
        "    # columns of actions taken. These are the actions which would've been taken\n",
        "    # for each batch state according to policy_net\n",
        "    state_action_values = policy_net(state_batch).gather(1, action_batch)\n",
        "\n",
        "    # Compute V(s_{t+1}) for all next states.\n",
        "    # Expected values of actions for non_final_next_states are computed based\n",
        "    # on the \"older\" target_net; selecting their best reward with max(1).values\n",
        "    # This is merged based on the mask, such that we'll have either the expected\n",
        "    # state value or 0 in case the state was final.\n",
        "    next_state_values = torch.zeros(BATCH_SIZE, device=device)\n",
        "\n",
        "    with torch.no_grad():\n",
        "        next_state_values[non_final_mask] = target_net(non_final_next_states).max(1).values\n",
        "\n",
        "    # Compute the expected Q values\n",
        "    expected_state_action_values = (next_state_values * GAMMA) + reward_batch\n",
        "\n",
        "    # Compute Huber loss\n",
        "    criterion = nn.SmoothL1Loss()\n",
        "    loss = criterion(state_action_values, expected_state_action_values.unsqueeze(1))\n",
        "\n",
        "    # Optimize the model\n",
        "    optimizer.zero_grad()\n",
        "    loss.backward()\n",
        "    # In-place gradient clipping\n",
        "    torch.nn.utils.clip_grad_value_(policy_net.parameters(), 100)\n",
        "    optimizer.step()"
      ],
      "metadata": {
        "id": "Y-a0_l89yzt-"
      },
      "execution_count": null,
      "outputs": []
    },
    {
      "cell_type": "code",
      "source": [
        "if torch.cuda.is_available():\n",
        "    num_episodes = 600\n",
        "else:\n",
        "    num_episodes = 50\n",
        "\n",
        "for i_episode in range(num_episodes):\n",
        "    # Initialize the environment and get its state\n",
        "    state, info = env.reset()\n",
        "    state = torch.tensor(state, dtype=torch.float32, device=device).unsqueeze(0)\n",
        "    for t in count():\n",
        "        action = select_action(state)\n",
        "        observation, reward, terminated, truncated, _ = env.step(action.item())\n",
        "        reward = torch.tensor([reward], device=device)\n",
        "        done = terminated or truncated\n",
        "\n",
        "        if terminated:\n",
        "            next_state = None\n",
        "        else:\n",
        "            next_state = torch.tensor(observation, dtype=torch.float32, device=device).unsqueeze(0)\n",
        "\n",
        "        # Store the transition in memory\n",
        "        memory.push(state, action, next_state, reward)\n",
        "\n",
        "        # Move to the next state\n",
        "        state = next_state\n",
        "\n",
        "        # Perform one step of the optimization (on the policy network)\n",
        "        optimize_model()\n",
        "\n",
        "        # Soft update of the target network's weights\n",
        "        # θ′ ← τ θ + (1 −τ )θ′\n",
        "        target_net_state_dict = target_net.state_dict()\n",
        "        policy_net_state_dict = policy_net.state_dict()\n",
        "\n",
        "        for key in policy_net_state_dict:\n",
        "            target_net_state_dict[key] = policy_net_state_dict[key]*TAU + target_net_state_dict[key]*(1-TAU)\n",
        "\n",
        "        target_net.load_state_dict(target_net_state_dict)\n",
        "\n",
        "        if done:\n",
        "            episode_durations.append(t + 1)\n",
        "            plot_durations()\n",
        "            break\n",
        "\n",
        "print('Complete')\n",
        "plot_durations(show_result=True)\n",
        "plt.ioff()\n",
        "plt.show()"
      ],
      "metadata": {
        "colab": {
          "base_uri": "https://localhost:8080/",
          "height": 526
        },
        "id": "qCEbTS9h0NIC",
        "outputId": "8591dbea-be0b-499d-b5ac-662ba8c002d0"
      },
      "execution_count": null,
      "outputs": [
        {
          "output_type": "stream",
          "name": "stdout",
          "text": [
            "Complete\n"
          ]
        },
        {
          "output_type": "display_data",
          "data": {
            "text/plain": [
              "<Figure size 640x480 with 1 Axes>"
            ],
            "image/png": "[encoded data removed]"
          },
          "metadata": {}
        },
        {
          "output_type": "display_data",
          "data": {
            "text/plain": [
              "<Figure size 640x480 with 0 Axes>"
            ]
          },
          "metadata": {}
        },
        {
          "output_type": "display_data",
          "data": {
            "text/plain": [
              "<Figure size 640x480 with 0 Axes>"
            ]
          },
          "metadata": {}
        }
      ]
    },
    {
      "cell_type": "markdown",
      "source": [
        "# 1. 강화학습 원리\n",
        "* state, action, reward\n",
        "* state와 action을 반복\n",
        "\n",
        "# 2."
      ],
      "metadata": {
        "id": "_DggZDTPiU_H"
      }
    },
    {
      "cell_type": "code",
      "source": [],
      "metadata": {
        "id": "B-T-hjntiUq1"
      },
      "execution_count": null,
      "outputs": []
    },
    {
      "cell_type": "markdown",
      "source": [
        "# Model Visualization"
      ],
      "metadata": {
        "id": "vpt3FSScwmM1"
      }
    },
    {
      "cell_type": "code",
      "source": [
        "!pip install torchviz"
      ],
      "metadata": {
        "id": "p6zAKBL-vWh-"
      },
      "execution_count": null,
      "outputs": []
    },
    {
      "cell_type": "code",
      "source": [
        "from torchviz import make_dot\n"
      ],
      "metadata": {
        "id": "cImIOwuPvLr7"
      },
      "execution_count": null,
      "outputs": []
    },
    {
      "cell_type": "code",
      "source": [
        "# 모델 초기화\n",
        "n_observations = 10  # 입력 특성의 수\n",
        "n_actions = 5  # 출력 액션의 수\n",
        "model = DQN(n_observations, n_actions)\n",
        "\n",
        "# 더미 입력 데이터 생성\n",
        "dummy_input = torch.randn(1, n_observations)\n",
        "\n",
        "# forward pass를 호출하고 그래프 생성\n",
        "output = model(dummy_input)\n",
        "graph = make_dot(output, params=dict(model.named_parameters()))\n",
        "\n",
        "# 그래프를 이미지 파일로 저장 또는 화면에 표시\n",
        "# graph.render(\"dqn_model\", format=\"png\")  # 파일로 저장\n",
        "graph.view()  # 그래프를 화면에 표시"
      ],
      "metadata": {
        "colab": {
          "base_uri": "https://localhost:8080/",
          "height": 36
        },
        "id": "ySBGxA1BvQ1y",
        "outputId": "709b6572-4a25-4582-9174-c4b8e93aaeeb"
      },
      "execution_count": null,
      "outputs": [
        {
          "output_type": "execute_result",
          "data": {
            "text/plain": [
              "'Digraph.gv.pdf'"
            ],
            "application/vnd.google.colaboratory.intrinsic+json": {
              "type": "string"
            }
          },
          "metadata": {},
          "execution_count": 14
        }
      ]
    },
    {
      "cell_type": "code",
      "source": [],
      "metadata": {
        "id": "5vDXQPC8vyDU"
      },
      "execution_count": null,
      "outputs": []
    }
  ]
}